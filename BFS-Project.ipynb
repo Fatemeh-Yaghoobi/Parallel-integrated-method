{
 "cells": [
  {
   "cell_type": "code",
   "execution_count": 69,
   "metadata": {
    "pycharm": {
     "name": "#%%\n"
    }
   },
   "outputs": [],
   "source": [
    "import numpy as np\n",
    "import matplotlib.pyplot as plt\n",
    "\n",
    "import KF_Library as kf"
   ]
  },
  {
   "cell_type": "markdown",
   "metadata": {
    "pycharm": {
     "name": "#%% md\n"
    }
   },
   "source": [
    "# Model parameters"
   ]
  },
  {
   "cell_type": "code",
   "execution_count": 70,
   "metadata": {
    "pycharm": {
     "name": "#%%\n"
    }
   },
   "outputs": [],
   "source": [
    "l = 1\n",
    "T = 100*l \n",
    "t1 = np.arange(T)\n",
    "A = np.array([[0.8499, 0.0350, 0.0240, 0.0431],\n",
    "              [1.2081, 0.0738, 0.0763, 0.4087],\n",
    "              [0.7331, 0.0674, 0.0878, 0.8767],\n",
    "              [0.0172, 0.0047, 0.0114, 0.9123]])\n",
    "\n",
    "B = np.array([[0, 0, 0, 1]])\n",
    "C = np.array([[1, 0, 0, 0],\n",
    "              [0, 0, 0, 1]])\n",
    "Q = np.eye(4)\n",
    "R = np.eye(2)\n",
    "\n",
    "\n",
    "nx = np.shape(Q)[0]\n",
    "ny = np.shape(R)[0]\n",
    "q = np.random.multivariate_normal(np.zeros(nx), Q, T)\n",
    "r = np.random.multivariate_normal(np.zeros(ny), R,  T//l)\n"
   ]
  },
  {
   "cell_type": "markdown",
   "metadata": {
    "pycharm": {
     "name": "#%% md\n"
    }
   },
   "source": [
    "# Initialization"
   ]
  },
  {
   "cell_type": "code",
   "execution_count": 71,
   "metadata": {
    "pycharm": {
     "name": "#%%\n"
    }
   },
   "outputs": [],
   "source": [
    "x_init = np.array([0., 0., 0., 0.])\n",
    "cov_init = np.diag([1., 1., 1., 1.])"
   ]
  },
  {
   "cell_type": "markdown",
   "metadata": {
    "pycharm": {
     "name": "#%% md\n"
    }
   },
   "source": [
    "# Model simulation"
   ]
  },
  {
   "cell_type": "code",
   "execution_count": 72,
   "metadata": {
    "pycharm": {
     "name": "#%%\n"
    },
    "scrolled": false
   },
   "outputs": [],
   "source": [
    "x = np.zeros((T,nx))\n",
    "h = np.zeros((T//l,nx))\n",
    "y = np.zeros((T//l,ny))\n",
    "# x[0] = x_init\n",
    "x_model = x_init\n",
    "for i in range(T):\n",
    "    x_model = A @ x_model + q[i-1]\n",
    "    x[i] = x_model #A @ x[i-1] + q[i-1]\n",
    "    if i%l == 0:\n",
    "#         print(x[i-l+1:i+1, :])\n",
    "        h[i//l ] = 1/l * np.sum(x[i-l+1:i+1, :], axis=0)\n",
    "        y[i//l ] = C @ h[i//l ] + r[i//l ]\n"
   ]
  },
  {
   "cell_type": "code",
   "execution_count": 73,
   "metadata": {
    "pycharm": {
     "name": "#%%\n"
    }
   },
   "outputs": [
    {
     "data": {
      "text/plain": "<Figure size 1080x720 with 1 Axes>",
      "image/png": "[encoded data removed]"
     },
     "metadata": {
      "needs_background": "light"
     },
     "output_type": "display_data"
    }
   ],
   "source": [
    "plt.figure(figsize = (15,10))\n",
    "\n",
    "plt.plot(np.arange(0,T,l),h[:,0],'*',label = 'integrated state')\n",
    "plt.plot(np.arange(T),x[:,0],'*',label = 'fast-rate state')\n",
    "plt.plot(np.arange(0,T,l),y[:,0],'*',label = 'integrated measurement')\n",
    "plt.legend()\n",
    "plt.grid()"
   ]
  },
  {
   "cell_type": "markdown",
   "metadata": {
    "pycharm": {
     "name": "#%% md\n"
    }
   },
   "source": [
    "# Model simulation for Kalman Filter ($l$=1)"
   ]
  },
  {
   "cell_type": "code",
   "execution_count": 74,
   "metadata": {
    "pycharm": {
     "name": "#%%\n"
    }
   },
   "outputs": [],
   "source": [
    "# steps = 100\n",
    "# m0 = x_init  # Suitable initial mean\n",
    "# P0 = cov_init # Suitable initial covariance\n",
    "\n",
    "# LQ = linalg.cholesky(Q, lower=True)\n",
    "# L0 = linalg.cholesky(P0, lower=True)\n",
    "\n",
    "# T1 = np.zeros((steps,))\n",
    "# X = np.zeros((steps,4))\n",
    "# Y = np.zeros((steps,2))\n",
    "\n",
    "# x_kf_test = m0 #+ L0 @ np.random.normal(size=(m0.shape))\n",
    "# X[0,:] = x_init\n",
    "# t = 0\n",
    "\n",
    "# for n in range(1,steps):\n",
    "# #     q = LQ @ np.random.normal(size=x_kf_test.shape)\n",
    "#     xt_ = A @ X[n-1,:] + q[n-1]\n",
    "# #     r = np.random.normal()\n",
    "#     y = C @ xt_ + r[n]\n",
    "#     t = t + 0.1\n",
    "#     T1[n] = t\n",
    "#     X[n,:] = xt_\n",
    "#     Y[n,:] = y\n",
    "\n",
    "# plt.clf()\n",
    "# plt.plot(T1,X[:,0],T1,Y[:,0],'.',T1,X[:,1],':')\n",
    "# plt.legend(['p','y','dp/dt'])"
   ]
  },
  {
   "cell_type": "code",
   "execution_count": 75,
   "outputs": [],
   "source": [
    "import jax.numpy as jnp"
   ],
   "metadata": {
    "collapsed": false,
    "pycharm": {
     "name": "#%%\n"
    }
   }
  },
  {
   "cell_type": "code",
   "execution_count": 76,
   "outputs": [
    {
     "name": "stderr",
     "output_type": "stream",
     "text": [
      "2022-09-29 10:19:23.522492: W external/org_tensorflow/tensorflow/stream_executor/gpu/asm_compiler.cc:111] *** WARNING *** You are using ptxas 10.1.243, which is older than 11.1. ptxas before 11.1 is known to miscompile XLA code, leading to incorrect results or invalid-address errors.\n",
      "\n",
      "You may not need to update to CUDA 11.1; cherry-picking the ptxas binary is often sufficient.\n"
     ]
    },
    {
     "data": {
      "text/plain": "DeviceArray(5.4295006, dtype=float32)"
     },
     "execution_count": 76,
     "metadata": {},
     "output_type": "execute_result"
    }
   ],
   "source": [
    "jnp.sum(A)"
   ],
   "metadata": {
    "collapsed": false,
    "pycharm": {
     "name": "#%%\n"
    }
   }
  },
  {
   "cell_type": "markdown",
   "metadata": {
    "pycharm": {
     "name": "#%% md\n"
    }
   },
   "source": [
    "# IMKF"
   ]
  },
  {
   "cell_type": "code",
   "execution_count": 90,
   "outputs": [
    {
     "data": {
      "text/plain": "array([[ 1,  4],\n       [ 9, 16]])"
     },
     "execution_count": 90,
     "metadata": {},
     "output_type": "execute_result"
    }
   ],
   "source": [
    "M = np.array([[1, 2], [3, 4]])\n",
    "M**2\n"
   ],
   "metadata": {
    "collapsed": false,
    "pycharm": {
     "name": "#%%\n"
    }
   }
  },
  {
   "cell_type": "code",
   "execution_count": 91,
   "outputs": [
    {
     "data": {
      "text/plain": "array([[ 7, 10],\n       [15, 22]])"
     },
     "execution_count": 91,
     "metadata": {},
     "output_type": "execute_result"
    }
   ],
   "source": [
    "np.linalg.matrix_power(M, 2)"
   ],
   "metadata": {
    "collapsed": false,
    "pycharm": {
     "name": "#%%\n"
    }
   }
  },
  {
   "cell_type": "code",
   "execution_count": 92,
   "outputs": [
    {
     "data": {
      "text/plain": "array([[0.75964725, 0.03291175, 0.02466102, 0.13729047],\n       [1.13615188, 0.05692912, 0.05143418, 0.54107288],\n       [0.75327739, 0.04547478, 0.04984932, 0.92237095],\n       [0.05468924, 0.0062261 , 0.01199698, 0.81913265]])"
     },
     "execution_count": 92,
     "metadata": {},
     "output_type": "execute_result"
    }
   ],
   "source": [
    "l=4\n",
    "A_bar_ = 0*A\n",
    "for i in np.arange(1,l+1):\n",
    "    A_bar_ += np.linalg.matrix_power(A, i)\n",
    "A_bar = 1/l * A_bar_\n",
    "A_bar"
   ],
   "metadata": {
    "collapsed": false,
    "pycharm": {
     "name": "#%%\n"
    }
   }
  },
  {
   "cell_type": "code",
   "execution_count": null,
   "outputs": [],
   "source": [],
   "metadata": {
    "collapsed": false,
    "pycharm": {
     "name": "#%%\n"
    }
   }
  },
  {
   "cell_type": "code",
   "execution_count": 88,
   "outputs": [
    {
     "data": {
      "text/plain": "array([[0.78294923, 0.03414967, 0.02566664, 0.11129612],\n       [1.17888714, 0.05479345, 0.04598366, 0.52198039],\n       [0.78393305, 0.04067083, 0.04044024, 0.93593066],\n       [0.04434525, 0.00600503, 0.01217255, 0.84494788]])"
     },
     "execution_count": 88,
     "metadata": {},
     "output_type": "execute_result"
    }
   ],
   "source": [
    "np.linalg.matrix_power(A, 2)"
   ],
   "metadata": {
    "collapsed": false,
    "pycharm": {
     "name": "#%%\n"
    }
   }
  },
  {
   "cell_type": "code",
   "execution_count": 89,
   "outputs": [
    {
     "data": {
      "text/plain": "array([[7.22330010e-01, 1.22500000e-03, 5.76000000e-04, 1.85761000e-03],\n       [1.45950561e+00, 5.44644000e-03, 5.82169000e-03, 1.67035690e-01],\n       [5.37435610e-01, 4.54276000e-03, 7.70884000e-03, 7.68602890e-01],\n       [2.95840000e-04, 2.20900000e-05, 1.29960000e-04, 8.32291290e-01]])"
     },
     "execution_count": 89,
     "metadata": {},
     "output_type": "execute_result"
    }
   ],
   "source": [
    "A**2"
   ],
   "metadata": {
    "collapsed": false,
    "pycharm": {
     "name": "#%%\n"
    }
   }
  },
  {
   "cell_type": "code",
   "execution_count": 78,
   "metadata": {
    "pycharm": {
     "name": "#%%\n"
    }
   },
   "outputs": [],
   "source": [
    "x_hat = np.zeros((T,x_init.shape[0]))\n",
    "x_hat[0] = x_init\n",
    "Px = np.zeros((T,x_init.shape[0],x_init.shape[0]))\n",
    "Px[0] = cov_init\n",
    "h_hat = np.zeros((T//l,x_init.shape[0]))\n",
    "Ph = np.zeros((T//l,x_init.shape[0],x_init.shape[0]))\n",
    "\n",
    "A_bar = 0*A\n",
    "for i in range(1,l+1):\n",
    "    A_bar += 1/l * np.linalg.matrix_power(A, i)\n",
    "M = np.zeros((l,A.shape[0], A.shape[1]))\n",
    "for i in range(l):\n",
    "    for j in range(l-i):\n",
    "        M[i] += 1/l * np.linalg.matrix_power(A, j)\n",
    "Q_M = 0*Q\n",
    "for i in range(l):\n",
    "    Q_M +=  M[i]@Q@M[i].T   "
   ]
  },
  {
   "cell_type": "code",
   "execution_count": 79,
   "metadata": {
    "pycharm": {
     "name": "#%%\n"
    }
   },
   "outputs": [],
   "source": [
    "inverse = lambda a: np.linalg.solve(a, np.eye(a.shape[0]))\n",
    "for t in range(l,T,l):\n",
    "    \n",
    "    # prediction\n",
    "    h_hat_ = A_bar @ x_hat[t-l]\n",
    "    P_h_   = A_bar @ Px[t-l] @ A_bar.T + Q_M\n",
    "    \n",
    "    #Update\n",
    "    L = P_h_.T @ C.T @ inverse(C @ P_h_ @ C.T + R)\n",
    "    h_hat[t//l] = h_hat_ + L @ (y[t//l] - C @ h_hat_)\n",
    "    Ph[t//l] = P_h_ - L @ C @ P_h_\n",
    "\n",
    "    #Smoothing\n",
    "    for i in range(1,l+1):\n",
    "        At = np.linalg.matrix_power(A, i) @ inverse(A_bar)\n",
    "        x_hat[t-l+i] = At @ h_hat[t//l]\n",
    "        C_bar = At @ L @ C \n",
    "        Qx1 = 0*Q\n",
    "        Qx2 = 0*Q\n",
    "        for j in range(1,i+1):\n",
    "            Qx1 += (C_bar @ M[j-1] - np.linalg.matrix_power(A, i-j)) @ Q @ (C_bar @ M[j-1] - np.linalg.matrix_power(A, i-j)).T\n",
    "        for j in range(i+1, l+1):\n",
    "            Qx2 += C_bar @ M[j-1] @ Q @ (C_bar @ M[j-1]).T\n",
    "        Qx3 = (At - C_bar) @ Q_M @ (At - C_bar).T\n",
    "\n",
    "        Qx = Qx1 + Qx2 - Qx3\n",
    "        Px[t-l+i] = At @ Ph[t//l] @ At.T + Qx\n"
   ]
  },
  {
   "cell_type": "code",
   "execution_count": 79,
   "outputs": [],
   "source": [],
   "metadata": {
    "collapsed": false,
    "pycharm": {
     "name": "#%%\n"
    }
   }
  },
  {
   "cell_type": "code",
   "execution_count": 80,
   "metadata": {
    "pycharm": {
     "name": "#%%\n"
    }
   },
   "outputs": [
    {
     "ename": "ValueError",
     "evalue": "x and y must have same first dimension, but have shapes (25,) and (100,)",
     "output_type": "error",
     "traceback": [
      "\u001B[0;31m---------------------------------------------------------------------------\u001B[0m",
      "\u001B[0;31mValueError\u001B[0m                                Traceback (most recent call last)",
      "Input \u001B[0;32mIn [80]\u001B[0m, in \u001B[0;36m<cell line: 6>\u001B[0;34m()\u001B[0m\n\u001B[1;32m      4\u001B[0m plt\u001B[38;5;241m.\u001B[39mplot(x[:,\u001B[38;5;241m0\u001B[39m],\u001B[38;5;124m'\u001B[39m\u001B[38;5;124m--\u001B[39m\u001B[38;5;124m'\u001B[39m,label \u001B[38;5;241m=\u001B[39m \u001B[38;5;124m'\u001B[39m\u001B[38;5;124mfast-rate state\u001B[39m\u001B[38;5;124m'\u001B[39m)\n\u001B[1;32m      5\u001B[0m plt\u001B[38;5;241m.\u001B[39mplot(x_hat[:,\u001B[38;5;241m0\u001B[39m],\u001B[38;5;124m'\u001B[39m\u001B[38;5;124m--\u001B[39m\u001B[38;5;124m'\u001B[39m,label \u001B[38;5;241m=\u001B[39m \u001B[38;5;124m'\u001B[39m\u001B[38;5;124mxhat\u001B[39m\u001B[38;5;124m'\u001B[39m)\n\u001B[0;32m----> 6\u001B[0m \u001B[43mplt\u001B[49m\u001B[38;5;241;43m.\u001B[39;49m\u001B[43mplot\u001B[49m\u001B[43m(\u001B[49m\u001B[43mnp\u001B[49m\u001B[38;5;241;43m.\u001B[39;49m\u001B[43marange\u001B[49m\u001B[43m(\u001B[49m\u001B[38;5;241;43m0\u001B[39;49m\u001B[43m,\u001B[49m\u001B[43mT\u001B[49m\u001B[43m,\u001B[49m\u001B[43ml\u001B[49m\u001B[43m)\u001B[49m\u001B[43m,\u001B[49m\u001B[43mh\u001B[49m\u001B[43m[\u001B[49m\u001B[43m:\u001B[49m\u001B[43m,\u001B[49m\u001B[38;5;241;43m0\u001B[39;49m\u001B[43m]\u001B[49m\u001B[43m,\u001B[49m\u001B[38;5;124;43m'\u001B[39;49m\u001B[38;5;124;43m*\u001B[39;49m\u001B[38;5;124;43m'\u001B[39;49m\u001B[43m,\u001B[49m\u001B[43mlabel\u001B[49m\u001B[43m \u001B[49m\u001B[38;5;241;43m=\u001B[39;49m\u001B[43m \u001B[49m\u001B[38;5;124;43m'\u001B[39;49m\u001B[38;5;124;43mintegrated state\u001B[39;49m\u001B[38;5;124;43m'\u001B[39;49m\u001B[43m)\u001B[49m\n\u001B[1;32m      7\u001B[0m plt\u001B[38;5;241m.\u001B[39mplot(np\u001B[38;5;241m.\u001B[39marange(\u001B[38;5;241m0\u001B[39m,T,l),h_hat[:,\u001B[38;5;241m0\u001B[39m],\u001B[38;5;124m'\u001B[39m\u001B[38;5;124m*\u001B[39m\u001B[38;5;124m'\u001B[39m,label \u001B[38;5;241m=\u001B[39m \u001B[38;5;124m'\u001B[39m\u001B[38;5;124mh_hat\u001B[39m\u001B[38;5;124m'\u001B[39m)\n\u001B[1;32m      8\u001B[0m plt\u001B[38;5;241m.\u001B[39mylabel(\u001B[38;5;124m'\u001B[39m\u001B[38;5;124mFirst state\u001B[39m\u001B[38;5;124m'\u001B[39m)\n",
      "File \u001B[0;32m~/PycharmProjects/sqrt-parallel-smoothers-pe-runtime/venv/lib/python3.8/site-packages/matplotlib/pyplot.py:2769\u001B[0m, in \u001B[0;36mplot\u001B[0;34m(scalex, scaley, data, *args, **kwargs)\u001B[0m\n\u001B[1;32m   2767\u001B[0m \u001B[38;5;129m@_copy_docstring_and_deprecators\u001B[39m(Axes\u001B[38;5;241m.\u001B[39mplot)\n\u001B[1;32m   2768\u001B[0m \u001B[38;5;28;01mdef\u001B[39;00m \u001B[38;5;21mplot\u001B[39m(\u001B[38;5;241m*\u001B[39margs, scalex\u001B[38;5;241m=\u001B[39m\u001B[38;5;28;01mTrue\u001B[39;00m, scaley\u001B[38;5;241m=\u001B[39m\u001B[38;5;28;01mTrue\u001B[39;00m, data\u001B[38;5;241m=\u001B[39m\u001B[38;5;28;01mNone\u001B[39;00m, \u001B[38;5;241m*\u001B[39m\u001B[38;5;241m*\u001B[39mkwargs):\n\u001B[0;32m-> 2769\u001B[0m     \u001B[38;5;28;01mreturn\u001B[39;00m \u001B[43mgca\u001B[49m\u001B[43m(\u001B[49m\u001B[43m)\u001B[49m\u001B[38;5;241;43m.\u001B[39;49m\u001B[43mplot\u001B[49m\u001B[43m(\u001B[49m\n\u001B[1;32m   2770\u001B[0m \u001B[43m        \u001B[49m\u001B[38;5;241;43m*\u001B[39;49m\u001B[43margs\u001B[49m\u001B[43m,\u001B[49m\u001B[43m \u001B[49m\u001B[43mscalex\u001B[49m\u001B[38;5;241;43m=\u001B[39;49m\u001B[43mscalex\u001B[49m\u001B[43m,\u001B[49m\u001B[43m \u001B[49m\u001B[43mscaley\u001B[49m\u001B[38;5;241;43m=\u001B[39;49m\u001B[43mscaley\u001B[49m\u001B[43m,\u001B[49m\n\u001B[1;32m   2771\u001B[0m \u001B[43m        \u001B[49m\u001B[38;5;241;43m*\u001B[39;49m\u001B[38;5;241;43m*\u001B[39;49m\u001B[43m(\u001B[49m\u001B[43m{\u001B[49m\u001B[38;5;124;43m\"\u001B[39;49m\u001B[38;5;124;43mdata\u001B[39;49m\u001B[38;5;124;43m\"\u001B[39;49m\u001B[43m:\u001B[49m\u001B[43m \u001B[49m\u001B[43mdata\u001B[49m\u001B[43m}\u001B[49m\u001B[43m \u001B[49m\u001B[38;5;28;43;01mif\u001B[39;49;00m\u001B[43m \u001B[49m\u001B[43mdata\u001B[49m\u001B[43m \u001B[49m\u001B[38;5;129;43;01mis\u001B[39;49;00m\u001B[43m \u001B[49m\u001B[38;5;129;43;01mnot\u001B[39;49;00m\u001B[43m \u001B[49m\u001B[38;5;28;43;01mNone\u001B[39;49;00m\u001B[43m \u001B[49m\u001B[38;5;28;43;01melse\u001B[39;49;00m\u001B[43m \u001B[49m\u001B[43m{\u001B[49m\u001B[43m}\u001B[49m\u001B[43m)\u001B[49m\u001B[43m,\u001B[49m\u001B[43m \u001B[49m\u001B[38;5;241;43m*\u001B[39;49m\u001B[38;5;241;43m*\u001B[39;49m\u001B[43mkwargs\u001B[49m\u001B[43m)\u001B[49m\n",
      "File \u001B[0;32m~/PycharmProjects/sqrt-parallel-smoothers-pe-runtime/venv/lib/python3.8/site-packages/matplotlib/axes/_axes.py:1632\u001B[0m, in \u001B[0;36mAxes.plot\u001B[0;34m(self, scalex, scaley, data, *args, **kwargs)\u001B[0m\n\u001B[1;32m   1390\u001B[0m \u001B[38;5;124;03m\"\"\"\u001B[39;00m\n\u001B[1;32m   1391\u001B[0m \u001B[38;5;124;03mPlot y versus x as lines and/or markers.\u001B[39;00m\n\u001B[1;32m   1392\u001B[0m \n\u001B[0;32m   (...)\u001B[0m\n\u001B[1;32m   1629\u001B[0m \u001B[38;5;124;03m(``'green'``) or hex strings (``'#008000'``).\u001B[39;00m\n\u001B[1;32m   1630\u001B[0m \u001B[38;5;124;03m\"\"\"\u001B[39;00m\n\u001B[1;32m   1631\u001B[0m kwargs \u001B[38;5;241m=\u001B[39m cbook\u001B[38;5;241m.\u001B[39mnormalize_kwargs(kwargs, mlines\u001B[38;5;241m.\u001B[39mLine2D)\n\u001B[0;32m-> 1632\u001B[0m lines \u001B[38;5;241m=\u001B[39m [\u001B[38;5;241m*\u001B[39m\u001B[38;5;28mself\u001B[39m\u001B[38;5;241m.\u001B[39m_get_lines(\u001B[38;5;241m*\u001B[39margs, data\u001B[38;5;241m=\u001B[39mdata, \u001B[38;5;241m*\u001B[39m\u001B[38;5;241m*\u001B[39mkwargs)]\n\u001B[1;32m   1633\u001B[0m \u001B[38;5;28;01mfor\u001B[39;00m line \u001B[38;5;129;01min\u001B[39;00m lines:\n\u001B[1;32m   1634\u001B[0m     \u001B[38;5;28mself\u001B[39m\u001B[38;5;241m.\u001B[39madd_line(line)\n",
      "File \u001B[0;32m~/PycharmProjects/sqrt-parallel-smoothers-pe-runtime/venv/lib/python3.8/site-packages/matplotlib/axes/_base.py:312\u001B[0m, in \u001B[0;36m_process_plot_var_args.__call__\u001B[0;34m(self, data, *args, **kwargs)\u001B[0m\n\u001B[1;32m    310\u001B[0m     this \u001B[38;5;241m+\u001B[39m\u001B[38;5;241m=\u001B[39m args[\u001B[38;5;241m0\u001B[39m],\n\u001B[1;32m    311\u001B[0m     args \u001B[38;5;241m=\u001B[39m args[\u001B[38;5;241m1\u001B[39m:]\n\u001B[0;32m--> 312\u001B[0m \u001B[38;5;28;01myield from\u001B[39;00m \u001B[38;5;28;43mself\u001B[39;49m\u001B[38;5;241;43m.\u001B[39;49m\u001B[43m_plot_args\u001B[49m\u001B[43m(\u001B[49m\u001B[43mthis\u001B[49m\u001B[43m,\u001B[49m\u001B[43m \u001B[49m\u001B[43mkwargs\u001B[49m\u001B[43m)\u001B[49m\n",
      "File \u001B[0;32m~/PycharmProjects/sqrt-parallel-smoothers-pe-runtime/venv/lib/python3.8/site-packages/matplotlib/axes/_base.py:498\u001B[0m, in \u001B[0;36m_process_plot_var_args._plot_args\u001B[0;34m(self, tup, kwargs, return_kwargs)\u001B[0m\n\u001B[1;32m    495\u001B[0m     \u001B[38;5;28mself\u001B[39m\u001B[38;5;241m.\u001B[39maxes\u001B[38;5;241m.\u001B[39myaxis\u001B[38;5;241m.\u001B[39mupdate_units(y)\n\u001B[1;32m    497\u001B[0m \u001B[38;5;28;01mif\u001B[39;00m x\u001B[38;5;241m.\u001B[39mshape[\u001B[38;5;241m0\u001B[39m] \u001B[38;5;241m!=\u001B[39m y\u001B[38;5;241m.\u001B[39mshape[\u001B[38;5;241m0\u001B[39m]:\n\u001B[0;32m--> 498\u001B[0m     \u001B[38;5;28;01mraise\u001B[39;00m \u001B[38;5;167;01mValueError\u001B[39;00m(\u001B[38;5;124mf\u001B[39m\u001B[38;5;124m\"\u001B[39m\u001B[38;5;124mx and y must have same first dimension, but \u001B[39m\u001B[38;5;124m\"\u001B[39m\n\u001B[1;32m    499\u001B[0m                      \u001B[38;5;124mf\u001B[39m\u001B[38;5;124m\"\u001B[39m\u001B[38;5;124mhave shapes \u001B[39m\u001B[38;5;132;01m{\u001B[39;00mx\u001B[38;5;241m.\u001B[39mshape\u001B[38;5;132;01m}\u001B[39;00m\u001B[38;5;124m and \u001B[39m\u001B[38;5;132;01m{\u001B[39;00my\u001B[38;5;241m.\u001B[39mshape\u001B[38;5;132;01m}\u001B[39;00m\u001B[38;5;124m\"\u001B[39m)\n\u001B[1;32m    500\u001B[0m \u001B[38;5;28;01mif\u001B[39;00m x\u001B[38;5;241m.\u001B[39mndim \u001B[38;5;241m>\u001B[39m \u001B[38;5;241m2\u001B[39m \u001B[38;5;129;01mor\u001B[39;00m y\u001B[38;5;241m.\u001B[39mndim \u001B[38;5;241m>\u001B[39m \u001B[38;5;241m2\u001B[39m:\n\u001B[1;32m    501\u001B[0m     \u001B[38;5;28;01mraise\u001B[39;00m \u001B[38;5;167;01mValueError\u001B[39;00m(\u001B[38;5;124mf\u001B[39m\u001B[38;5;124m\"\u001B[39m\u001B[38;5;124mx and y can be no greater than 2D, but have \u001B[39m\u001B[38;5;124m\"\u001B[39m\n\u001B[1;32m    502\u001B[0m                      \u001B[38;5;124mf\u001B[39m\u001B[38;5;124m\"\u001B[39m\u001B[38;5;124mshapes \u001B[39m\u001B[38;5;132;01m{\u001B[39;00mx\u001B[38;5;241m.\u001B[39mshape\u001B[38;5;132;01m}\u001B[39;00m\u001B[38;5;124m and \u001B[39m\u001B[38;5;132;01m{\u001B[39;00my\u001B[38;5;241m.\u001B[39mshape\u001B[38;5;132;01m}\u001B[39;00m\u001B[38;5;124m\"\u001B[39m)\n",
      "\u001B[0;31mValueError\u001B[0m: x and y must have same first dimension, but have shapes (25,) and (100,)"
     ]
    },
    {
     "data": {
      "text/plain": "<Figure size 1080x720 with 1 Axes>",
      "image/png": "[encoded data removed]"
     },
     "metadata": {
      "needs_background": "light"
     },
     "output_type": "display_data"
    }
   ],
   "source": [
    "plt.figure(figsize = (15,10))\n",
    "\n",
    "plt.subplot(211)\n",
    "plt.plot(x[:,0],'--',label = 'fast-rate state')\n",
    "plt.plot(x_hat[:,0],'--',label = 'xhat')\n",
    "plt.plot(np.arange(0,T,l),h[:,0],'*',label = 'integrated state')\n",
    "plt.plot(np.arange(0,T,l),h_hat[:,0],'*',label = 'h_hat')\n",
    "plt.ylabel('First state')\n",
    "plt.legend()\n",
    "plt.grid()\n",
    "\n",
    "plt.subplot(212)\n",
    "plt.plot(x[:,3],'--',label = 'fast-rate state')\n",
    "plt.plot(x_hat[:,3],'--',label = 'xhat')\n",
    "plt.plot(np.arange(0,T,l),h[:,3],'*',label = 'integrated state')\n",
    "plt.plot(np.arange(0,T,l),h_hat[:,3],'*',label = 'h_hat')\n",
    "plt.ylabel('Last state')\n",
    "plt.legend()\n",
    "plt.grid()"
   ]
  },
  {
   "cell_type": "markdown",
   "metadata": {
    "pycharm": {
     "name": "#%% md\n"
    }
   },
   "source": [
    "# Kalman Filter"
   ]
  },
  {
   "cell_type": "markdown",
   "metadata": {
    "pycharm": {
     "name": "#%% md\n"
    }
   },
   "source": [
    "m = x_init\n",
    "P = cov_init\n",
    "kf_m = np.zeros((T, m.shape[0]))\n",
    "kf_P = np.zeros((T, P.shape[0], P.shape[1]))\n",
    "kf_m[0] = x_init\n",
    "kf_P[0] = cov_init\n",
    "for n in range(1,T):\n",
    "    # Prediction\n",
    "    m = A @ m\n",
    "    P = A @ P @ A.T + Q\n",
    "    # Update\n",
    "    S = C @ P @ C.T + R\n",
    "    K = P @ C.T @ linalg.inv(S)\n",
    "    m = m + K @ (y[n] - C @ m)\n",
    "    P = P - K @ S @ K.T\n",
    "    kf_m[n,:] = m\n",
    "    kf_P[n,:,:] = P"
   ]
  },
  {
   "cell_type": "markdown",
   "metadata": {
    "pycharm": {
     "name": "#%% md\n"
    }
   },
   "source": [
    "# Parallel integrated state estimation"
   ]
  },
  {
   "cell_type": "code",
   "execution_count": null,
   "metadata": {
    "pycharm": {
     "name": "#%%\n"
    }
   },
   "outputs": [],
   "source": [
    "#filtering\n",
    "a = kf.filteringInitializer(A_bar, Q_M, C, R, y, x_init, cov_init, T,l)\n",
    "kf_res = kf.parallelScanAlgorithm(a, T, kf.filtering)\n",
    "\n",
    "KF_m = []\n",
    "KF_P = []\n",
    "for k in range(l,len(kf_res),l): \n",
    "    KF_m.append(kf_res[k]['b'])\n",
    "    KF_P.append(kf_res[k]['C'])\n",
    "kf_m_par = np.array(KF_m).reshape(-1,4)"
   ]
  },
  {
   "cell_type": "code",
   "execution_count": null,
   "metadata": {
    "pycharm": {
     "name": "#%%\n"
    }
   },
   "outputs": [],
   "source": [
    "\n",
    "plt.figure(figsize = (10,5))\n",
    "plt.subplot(211)\n",
    "plt.plot(kf_m_par[:,0],'--',label = 'parallel integrated state estimation')\n",
    "plt.plot(h_hat[1:,0], '*', label = 'sequential integrated state estimation')\n",
    "plt.ylabel('$h_1$')\n",
    "plt.legend()\n",
    "plt.grid()\n",
    "\n",
    "plt.subplot(212)\n",
    "plt.plot(kf_m_par[:,3],'--',label = 'parallel integrated state estimation')\n",
    "plt.plot(h_hat[1:,3], '*', label = 'sequential integrated state estimation')\n",
    "plt.ylabel('$h_4$')\n",
    "plt.legend()\n",
    "plt.grid()"
   ]
  },
  {
   "cell_type": "code",
   "execution_count": null,
   "outputs": [],
   "source": [
    "np.testing.assert_allclose(h_hat[:,0][1:], kf_m_par[:,0], 1e-2)"
   ],
   "metadata": {
    "collapsed": false,
    "pycharm": {
     "name": "#%%\n"
    }
   }
  },
  {
   "cell_type": "code",
   "execution_count": null,
   "metadata": {
    "pycharm": {
     "name": "#%%\n"
    }
   },
   "outputs": [],
   "source": [
    "h_hat[:,0][1:].shape"
   ]
  },
  {
   "cell_type": "code",
   "execution_count": null,
   "metadata": {
    "pycharm": {
     "name": "#%%\n"
    }
   },
   "outputs": [],
   "source": [
    "kf_m_par[:,0].shape"
   ]
  },
  {
   "cell_type": "code",
   "execution_count": null,
   "metadata": {
    "pycharm": {
     "name": "#%%\n"
    }
   },
   "outputs": [],
   "source": []
  }
 ],
 "metadata": {
  "kernelspec": {
   "display_name": "Python 3",
   "language": "python",
   "name": "python3"
  },
  "language_info": {
   "codemirror_mode": {
    "name": "ipython",
    "version": 3
   },
   "file_extension": ".py",
   "mimetype": "text/x-python",
   "name": "python",
   "nbconvert_exporter": "python",
   "pygments_lexer": "ipython3",
   "version": "3.8.8"
  }
 },
 "nbformat": 4,
 "nbformat_minor": 4
}